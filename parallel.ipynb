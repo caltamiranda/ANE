{
  "nbformat": 4,
  "nbformat_minor": 0,
  "metadata": {
    "colab": {
      "provenance": [],
      "authorship_tag": "ABX9TyPGsU9+KZGpqr6czOu6GPps",
      "include_colab_link": true
    },
    "kernelspec": {
      "name": "python3",
      "display_name": "Python 3"
    },
    "language_info": {
      "name": "python"
    }
  },
  "cells": [
    {
      "cell_type": "markdown",
      "metadata": {
        "id": "view-in-github",
        "colab_type": "text"
      },
      "source": [
        "<a href=\"https://colab.research.google.com/github/caltamiranda/ANE/blob/main/parallel.ipynb\" target=\"_parent\"><img src=\"https://colab.research.google.com/assets/colab-badge.svg\" alt=\"Open In Colab\"/></a>"
      ]
    },
    {
      "cell_type": "code",
      "execution_count": null,
      "metadata": {
        "id": "B7X7XZGrp2jS"
      },
      "outputs": [],
      "source": [
        "#Christopher M. Church\n",
        "#PhD Candidate, UC Berkeley, History\n",
        "#Social Science D-Lab, UC Berkeley\n",
        "\n",
        "import multiprocessing #import multiprocessing library\n",
        "import time\n",
        "def worker(num):\n",
        "    '''this is the process that will be created in the pool'''\n",
        "    return num*2 #multiply the current number by two\n",
        "\n",
        "if __name__ == '__main__': #this is needed to insert the process on Windows -- not needed in Linux\n",
        "    start=time.time()\n",
        "    nums = [x for x in range(1000)] #our list to iterate over and multiple each value by 2\n",
        "    p = multiprocessing.Pool(4) #create a processor pool of 2\n",
        "    values = p.map(func=worker,iterable=nums) #send the numbers into the process pool\n",
        "    p.close() #close the process pool\n",
        "    print(f\"El tiempo el cual {time.time() }\")\n",
        "    print (values) #print out the new values"
      ]
    }
  ]
}